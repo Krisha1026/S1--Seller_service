{
 "cells": [
  {
   "cell_type": "code",
   "execution_count": null,
   "id": "cb16f266",
   "metadata": {
    "vscode": {
     "languageId": "plaintext"
    }
   },
   "outputs": [],
   "source": [
    "pip install flask flask-sqlalchemy flask-cors"
   ]
  },
  {
   "cell_type": "code",
   "execution_count": null,
   "id": "f15e7f51",
   "metadata": {
    "vscode": {
     "languageId": "plaintext"
    }
   },
   "outputs": [],
   "source": [
    "pip install ipywidgets pandas requests"
   ]
  },
  {
   "cell_type": "code",
   "execution_count": null,
   "id": "95943753",
   "metadata": {
    "vscode": {
     "languageId": "plaintext"
    }
   },
   "outputs": [],
   "source": [
    "pip install pymysql"
   ]
  }
 ],
 "metadata": {
  "language_info": {
   "name": "python"
  }
 },
 "nbformat": 4,
 "nbformat_minor": 5
}
